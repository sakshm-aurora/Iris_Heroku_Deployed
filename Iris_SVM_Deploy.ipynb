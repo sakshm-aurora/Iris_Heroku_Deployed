{
  "nbformat": 4,
  "nbformat_minor": 0,
  "metadata": {
    "colab": {
      "name": "Iris_SVM_Deploy.ipynb",
      "provenance": [],
      "mount_file_id": "1O6M-dNesBH_MuZqPZz7k2pvA6_dknmL0",
      "authorship_tag": "ABX9TyP0Bml2SCGt0yTRfzjvvFyn",
      "include_colab_link": true
    },
    "kernelspec": {
      "name": "python3",
      "display_name": "Python 3"
    }
  },
  "cells": [
    {
      "cell_type": "markdown",
      "metadata": {
        "id": "view-in-github",
        "colab_type": "text"
      },
      "source": [
        "<a href=\"https://colab.research.google.com/github/sakshm-aurora/Iris_Heroku_Deployed/blob/master/Iris_SVM_Deploy.ipynb\" target=\"_parent\"><img src=\"https://colab.research.google.com/assets/colab-badge.svg\" alt=\"Open In Colab\"/></a>"
      ]
    },
    {
      "cell_type": "code",
      "metadata": {
        "id": "FBdIyS6aRgZK",
        "colab_type": "code",
        "colab": {}
      },
      "source": [
        "from sklearn import svm\n",
        "from sklearn import datasets\n",
        "import pickle"
      ],
      "execution_count": 0,
      "outputs": []
    },
    {
      "cell_type": "code",
      "metadata": {
        "id": "qWWCspIMRxd7",
        "colab_type": "code",
        "colab": {}
      },
      "source": [
        "iris = datasets.load_iris()\n",
        "X, y = iris.data, iris.target"
      ],
      "execution_count": 0,
      "outputs": []
    },
    {
      "cell_type": "code",
      "metadata": {
        "id": "TwMhHNuYR0et",
        "colab_type": "code",
        "colab": {
          "base_uri": "https://localhost:8080/",
          "height": 84
        },
        "outputId": "891bf94c-d4fc-4837-b029-683211bb89ac"
      },
      "source": [
        "clf = svm.SVC(C=1.0,probability=True, random_state=1)\n",
        "clf.fit(X, y)"
      ],
      "execution_count": 3,
      "outputs": [
        {
          "output_type": "execute_result",
          "data": {
            "text/plain": [
              "SVC(C=1.0, break_ties=False, cache_size=200, class_weight=None, coef0=0.0,\n",
              "    decision_function_shape='ovr', degree=3, gamma='scale', kernel='rbf',\n",
              "    max_iter=-1, probability=True, random_state=1, shrinking=True, tol=0.001,\n",
              "    verbose=False)"
            ]
          },
          "metadata": {
            "tags": []
          },
          "execution_count": 3
        }
      ]
    },
    {
      "cell_type": "code",
      "metadata": {
        "id": "u_3iWhJqR6hd",
        "colab_type": "code",
        "colab": {
          "base_uri": "https://localhost:8080/",
          "height": 34
        },
        "outputId": "15811d51-7535-4296-f32b-22468e7dde2f"
      },
      "source": [
        "print('Training Accuracy: ', clf.score(X, y))"
      ],
      "execution_count": 4,
      "outputs": [
        {
          "output_type": "stream",
          "text": [
            "Training Accuracy:  0.9733333333333334\n"
          ],
          "name": "stdout"
        }
      ]
    },
    {
      "cell_type": "code",
      "metadata": {
        "id": "4Qln55ulR_DF",
        "colab_type": "code",
        "colab": {
          "base_uri": "https://localhost:8080/",
          "height": 34
        },
        "outputId": "be7e43d5-a5a6-41e3-a845-74a073e2758b"
      },
      "source": [
        "print('Prediction results: ', clf.predict_proba([[5.2,  3.5,  2.4,  1.2]]))"
      ],
      "execution_count": 5,
      "outputs": [
        {
          "output_type": "stream",
          "text": [
            "Prediction results:  [[0.62128609 0.33988727 0.03882665]]\n"
          ],
          "name": "stdout"
        }
      ]
    },
    {
      "cell_type": "code",
      "metadata": {
        "id": "Myk9bfwZSVDN",
        "colab_type": "code",
        "colab": {}
      },
      "source": [
        "pickle.dump(clf , open('model.pkl','wb'))"
      ],
      "execution_count": 0,
      "outputs": []
    }
  ]
}